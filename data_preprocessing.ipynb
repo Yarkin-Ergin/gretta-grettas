{
 "cells": [
  {
   "cell_type": "markdown",
   "metadata": {},
   "source": [
    "# TODO\n",
    "\n",
    "prepare data for: \n",
    "\n",
    "ad_viz_plotval_data_ozone_Bronx.csv \n",
    "\n",
    "all_states_data_sorted.csv\n",
    "\n",
    "station number for NY: 725030"
   ]
  },
  {
   "cell_type": "code",
   "execution_count": 1,
   "metadata": {},
   "outputs": [],
   "source": [
    "import numpy as np\n",
    "import pandas as pd\n",
    "import matplotlib.pyplot as plt\n",
    "from datetime import datetime\n",
    "\n",
    "# import my own module\n",
    "from utility import *\n"
   ]
  },
  {
   "cell_type": "code",
   "execution_count": 2,
   "metadata": {},
   "outputs": [],
   "source": [
    "df_oz = pd.read_csv('ad_viz_plotval_data_ozone_Bronx.csv')"
   ]
  },
  {
   "cell_type": "code",
   "execution_count": 3,
   "metadata": {},
   "outputs": [],
   "source": [
    "df_oz.head(2)\n",
    "df_oz = df_oz[ ['Date', 'Daily Max 8-hour Ozone Concentration', 'DAILY_AQI_VALUE'] ]\n",
    "# convert Date to pandas datetime object\n",
    "df_oz.Date = pd.to_datetime(df_oz.Date)\n",
    "# set Date as index column\n",
    "df_oz = df_oz.set_index('Date')"
   ]
  },
  {
   "cell_type": "code",
   "execution_count": 4,
   "metadata": {},
   "outputs": [
    {
     "data": {
      "text/html": [
       "<div>\n",
       "<style scoped>\n",
       "    .dataframe tbody tr th:only-of-type {\n",
       "        vertical-align: middle;\n",
       "    }\n",
       "\n",
       "    .dataframe tbody tr th {\n",
       "        vertical-align: top;\n",
       "    }\n",
       "\n",
       "    .dataframe thead th {\n",
       "        text-align: right;\n",
       "    }\n",
       "</style>\n",
       "<table border=\"1\" class=\"dataframe\">\n",
       "  <thead>\n",
       "    <tr style=\"text-align: right;\">\n",
       "      <th></th>\n",
       "      <th>Daily Max 8-hour Ozone Concentration</th>\n",
       "      <th>DAILY_AQI_VALUE</th>\n",
       "    </tr>\n",
       "    <tr>\n",
       "      <th>Date</th>\n",
       "      <th></th>\n",
       "      <th></th>\n",
       "    </tr>\n",
       "  </thead>\n",
       "  <tbody>\n",
       "    <tr>\n",
       "      <th>2012-08-14</th>\n",
       "      <td>0.04</td>\n",
       "      <td>37</td>\n",
       "    </tr>\n",
       "  </tbody>\n",
       "</table>\n",
       "</div>"
      ],
      "text/plain": [
       "            Daily Max 8-hour Ozone Concentration  DAILY_AQI_VALUE\n",
       "Date                                                             \n",
       "2012-08-14                                  0.04               37"
      ]
     },
     "execution_count": 4,
     "metadata": {},
     "output_type": "execute_result"
    }
   ],
   "source": [
    "df_oz.head(1)"
   ]
  },
  {
   "cell_type": "code",
   "execution_count": 5,
   "metadata": {},
   "outputs": [
    {
     "data": {
      "text/html": [
       "<div>\n",
       "<style scoped>\n",
       "    .dataframe tbody tr th:only-of-type {\n",
       "        vertical-align: middle;\n",
       "    }\n",
       "\n",
       "    .dataframe tbody tr th {\n",
       "        vertical-align: top;\n",
       "    }\n",
       "\n",
       "    .dataframe thead th {\n",
       "        text-align: right;\n",
       "    }\n",
       "</style>\n",
       "<table border=\"1\" class=\"dataframe\">\n",
       "  <thead>\n",
       "    <tr style=\"text-align: right;\">\n",
       "      <th></th>\n",
       "      <th>Daily Max 8-hour Ozone Concentration</th>\n",
       "      <th>DAILY_AQI_VALUE</th>\n",
       "    </tr>\n",
       "    <tr>\n",
       "      <th>Date</th>\n",
       "      <th></th>\n",
       "      <th></th>\n",
       "    </tr>\n",
       "  </thead>\n",
       "  <tbody>\n",
       "    <tr>\n",
       "      <th>2020-05-25</th>\n",
       "      <td>0.029</td>\n",
       "      <td>27</td>\n",
       "    </tr>\n",
       "  </tbody>\n",
       "</table>\n",
       "</div>"
      ],
      "text/plain": [
       "            Daily Max 8-hour Ozone Concentration  DAILY_AQI_VALUE\n",
       "Date                                                             \n",
       "2020-05-25                                 0.029               27"
      ]
     },
     "execution_count": 5,
     "metadata": {},
     "output_type": "execute_result"
    }
   ],
   "source": [
    "df_oz.tail(1)"
   ]
  },
  {
   "cell_type": "code",
   "execution_count": 7,
   "metadata": {},
   "outputs": [
    {
     "name": "stdout",
     "output_type": "stream",
     "text": [
      "Dataset date range: 2012-08-14  to  2020-05-25\n",
      "Number of missing dates in the dataset : 97 / 2745 \n"
     ]
    }
   ],
   "source": [
    "missing_dates = pd.date_range(df_oz.index.min(), df_oz.index.max()).difference(df_oz.index)\n",
    "print ('Dataset date range:', df_oz.index.min().strftime('%Y-%m-%d'), ' to ' ,df_oz.index.max().strftime('%Y-%m-%d') )    \n",
    "print ('Number of missing dates in the dataset : %d / %d ' % ( len(missing_dates), df_oz.shape[0] ) )"
   ]
  },
  {
   "cell_type": "code",
   "execution_count": 8,
   "metadata": {},
   "outputs": [
    {
     "name": "stdout",
     "output_type": "stream",
     "text": [
      "After filling the missing dates: the # of missing dates: 0\n"
     ]
    }
   ],
   "source": [
    "# work on the missing dates\n",
    "df_oz = df_oz.reindex(  pd.date_range(df_oz.index.min(), df_oz.index.max())  ) \n",
    "# fill those missing dates with the last known date\n",
    "df_oz.ffill(axis=0, inplace=True)\n",
    "# Now move the Date index as one of the columns, easier for later analysis\n",
    "df_oz = df_oz.rename_axis('Date').reset_index()\n",
    "print ( 'After filling the missing dates: the # of missing dates:', df_oz.isnull().any().sum() )"
   ]
  },
  {
   "cell_type": "code",
   "execution_count": 9,
   "metadata": {},
   "outputs": [
    {
     "name": "stdout",
     "output_type": "stream",
     "text": [
      "0\n"
     ]
    }
   ],
   "source": [
    "# Check for duplicate data\n",
    "print ( df_oz.duplicated(subset='Date', keep='first').sum() )"
   ]
  },
  {
   "cell_type": "code",
   "execution_count": 10,
   "metadata": {},
   "outputs": [],
   "source": [
    "# Although there are 0 duplicate data let's remove the duplicate anyway\n",
    "df_oz = df_oz.drop_duplicates(subset='Date', keep='first')"
   ]
  },
  {
   "cell_type": "code",
   "execution_count": 11,
   "metadata": {},
   "outputs": [
    {
     "data": {
      "text/html": [
       "<div>\n",
       "<style scoped>\n",
       "    .dataframe tbody tr th:only-of-type {\n",
       "        vertical-align: middle;\n",
       "    }\n",
       "\n",
       "    .dataframe tbody tr th {\n",
       "        vertical-align: top;\n",
       "    }\n",
       "\n",
       "    .dataframe thead th {\n",
       "        text-align: right;\n",
       "    }\n",
       "</style>\n",
       "<table border=\"1\" class=\"dataframe\">\n",
       "  <thead>\n",
       "    <tr style=\"text-align: right;\">\n",
       "      <th></th>\n",
       "      <th>Date</th>\n",
       "      <th>Daily Max 8-hour Ozone Concentration</th>\n",
       "      <th>DAILY_AQI_VALUE</th>\n",
       "    </tr>\n",
       "  </thead>\n",
       "  <tbody>\n",
       "    <tr>\n",
       "      <th>0</th>\n",
       "      <td>2012-08-14</td>\n",
       "      <td>0.040</td>\n",
       "      <td>37.0</td>\n",
       "    </tr>\n",
       "    <tr>\n",
       "      <th>1</th>\n",
       "      <td>2012-08-15</td>\n",
       "      <td>0.045</td>\n",
       "      <td>42.0</td>\n",
       "    </tr>\n",
       "  </tbody>\n",
       "</table>\n",
       "</div>"
      ],
      "text/plain": [
       "        Date  Daily Max 8-hour Ozone Concentration  DAILY_AQI_VALUE\n",
       "0 2012-08-14                                 0.040             37.0\n",
       "1 2012-08-15                                 0.045             42.0"
      ]
     },
     "execution_count": 11,
     "metadata": {},
     "output_type": "execute_result"
    }
   ],
   "source": [
    "df_oz.head(2)"
   ]
  },
  {
   "cell_type": "code",
   "execution_count": 13,
   "metadata": {},
   "outputs": [
    {
     "data": {
      "image/png": "[encoded data removed]",
      "text/plain": [
       "<Figure size 1296x432 with 1 Axes>"
      ]
     },
     "metadata": {
      "needs_background": "light"
     },
     "output_type": "display_data"
    }
   ],
   "source": [
    "plt.figure(figsize=(18,6))\n",
    "plt.plot(df_oz.Date, df_oz['Daily Max 8-hour Ozone Concentration'])\n",
    "plt.xticks(fontsize=14, rotation=45);"
   ]
  },
  {
   "cell_type": "code",
   "execution_count": 14,
   "metadata": {},
   "outputs": [],
   "source": [
    "df_oz.to_csv('bronx_preprocessed.csv',index=False)"
   ]
  },
  {
   "cell_type": "markdown",
   "metadata": {},
   "source": [
    "# Temperature Data"
   ]
  },
  {
   "cell_type": "code",
   "execution_count": 23,
   "metadata": {},
   "outputs": [],
   "source": [
    "df = pd.read_csv('all_states_data_sorted.csv')"
   ]
  },
  {
   "cell_type": "code",
   "execution_count": 20,
   "metadata": {},
   "outputs": [
    {
     "data": {
      "text/html": [
       "<div>\n",
       "<style scoped>\n",
       "    .dataframe tbody tr th:only-of-type {\n",
       "        vertical-align: middle;\n",
       "    }\n",
       "\n",
       "    .dataframe tbody tr th {\n",
       "        vertical-align: top;\n",
       "    }\n",
       "\n",
       "    .dataframe thead th {\n",
       "        text-align: right;\n",
       "    }\n",
       "</style>\n",
       "<table border=\"1\" class=\"dataframe\">\n",
       "  <thead>\n",
       "    <tr style=\"text-align: right;\">\n",
       "      <th></th>\n",
       "      <th>stn</th>\n",
       "      <th>wban</th>\n",
       "      <th>year</th>\n",
       "      <th>mo</th>\n",
       "      <th>da</th>\n",
       "      <th>temp</th>\n",
       "      <th>count_temp</th>\n",
       "      <th>dewp</th>\n",
       "      <th>count_dewp</th>\n",
       "      <th>slp</th>\n",
       "      <th>...</th>\n",
       "      <th>flag_min</th>\n",
       "      <th>prcp</th>\n",
       "      <th>flag_prcp</th>\n",
       "      <th>sndp</th>\n",
       "      <th>fog</th>\n",
       "      <th>rain_drizzle</th>\n",
       "      <th>snow_ice_pellets</th>\n",
       "      <th>hail</th>\n",
       "      <th>thunder</th>\n",
       "      <th>tornado_funnel_cloud</th>\n",
       "    </tr>\n",
       "  </thead>\n",
       "  <tbody>\n",
       "    <tr>\n",
       "      <th>0</th>\n",
       "      <td>722950</td>\n",
       "      <td>23174</td>\n",
       "      <td>1944</td>\n",
       "      <td>1</td>\n",
       "      <td>1</td>\n",
       "      <td>59.0</td>\n",
       "      <td>6</td>\n",
       "      <td>42.7</td>\n",
       "      <td>6</td>\n",
       "      <td>1022.8</td>\n",
       "      <td>...</td>\n",
       "      <td>*</td>\n",
       "      <td>0.00</td>\n",
       "      <td>I</td>\n",
       "      <td>999.9</td>\n",
       "      <td>0</td>\n",
       "      <td>0</td>\n",
       "      <td>0</td>\n",
       "      <td>0</td>\n",
       "      <td>0</td>\n",
       "      <td>0</td>\n",
       "    </tr>\n",
       "    <tr>\n",
       "      <th>1</th>\n",
       "      <td>722950</td>\n",
       "      <td>23174</td>\n",
       "      <td>1944</td>\n",
       "      <td>1</td>\n",
       "      <td>2</td>\n",
       "      <td>51.7</td>\n",
       "      <td>24</td>\n",
       "      <td>48.6</td>\n",
       "      <td>24</td>\n",
       "      <td>1022.3</td>\n",
       "      <td>...</td>\n",
       "      <td>*</td>\n",
       "      <td>99.99</td>\n",
       "      <td>NaN</td>\n",
       "      <td>999.9</td>\n",
       "      <td>1</td>\n",
       "      <td>1</td>\n",
       "      <td>0</td>\n",
       "      <td>0</td>\n",
       "      <td>0</td>\n",
       "      <td>0</td>\n",
       "    </tr>\n",
       "  </tbody>\n",
       "</table>\n",
       "<p>2 rows × 32 columns</p>\n",
       "</div>"
      ],
      "text/plain": [
       "      stn   wban  year  mo  da  temp  count_temp  dewp  count_dewp     slp  \\\n",
       "0  722950  23174  1944   1   1  59.0           6  42.7           6  1022.8   \n",
       "1  722950  23174  1944   1   2  51.7          24  48.6          24  1022.3   \n",
       "\n",
       "   ...  flag_min   prcp  flag_prcp   sndp  fog  rain_drizzle  \\\n",
       "0  ...         *   0.00          I  999.9    0             0   \n",
       "1  ...         *  99.99        NaN  999.9    1             1   \n",
       "\n",
       "   snow_ice_pellets  hail  thunder  tornado_funnel_cloud  \n",
       "0                 0     0        0                     0  \n",
       "1                 0     0        0                     0  \n",
       "\n",
       "[2 rows x 32 columns]"
      ]
     },
     "execution_count": 20,
     "metadata": {},
     "output_type": "execute_result"
    }
   ],
   "source": [
    "df.head(2)"
   ]
  },
  {
   "cell_type": "code",
   "execution_count": 24,
   "metadata": {},
   "outputs": [
    {
     "data": {
      "text/html": [
       "<div>\n",
       "<style scoped>\n",
       "    .dataframe tbody tr th:only-of-type {\n",
       "        vertical-align: middle;\n",
       "    }\n",
       "\n",
       "    .dataframe tbody tr th {\n",
       "        vertical-align: top;\n",
       "    }\n",
       "\n",
       "    .dataframe thead th {\n",
       "        text-align: right;\n",
       "    }\n",
       "</style>\n",
       "<table border=\"1\" class=\"dataframe\">\n",
       "  <thead>\n",
       "    <tr style=\"text-align: right;\">\n",
       "      <th></th>\n",
       "      <th>stn</th>\n",
       "      <th>wban</th>\n",
       "      <th>year</th>\n",
       "      <th>mo</th>\n",
       "      <th>da</th>\n",
       "      <th>temp</th>\n",
       "      <th>count_temp</th>\n",
       "      <th>dewp</th>\n",
       "      <th>count_dewp</th>\n",
       "      <th>slp</th>\n",
       "      <th>...</th>\n",
       "      <th>prcp</th>\n",
       "      <th>flag_prcp</th>\n",
       "      <th>sndp</th>\n",
       "      <th>fog</th>\n",
       "      <th>rain_drizzle</th>\n",
       "      <th>snow_ice_pellets</th>\n",
       "      <th>hail</th>\n",
       "      <th>thunder</th>\n",
       "      <th>tornado_funnel_cloud</th>\n",
       "      <th>Date</th>\n",
       "    </tr>\n",
       "  </thead>\n",
       "  <tbody>\n",
       "    <tr>\n",
       "      <th>0</th>\n",
       "      <td>722950</td>\n",
       "      <td>23174</td>\n",
       "      <td>1944</td>\n",
       "      <td>1</td>\n",
       "      <td>1</td>\n",
       "      <td>59.0</td>\n",
       "      <td>6</td>\n",
       "      <td>42.7</td>\n",
       "      <td>6</td>\n",
       "      <td>1022.8</td>\n",
       "      <td>...</td>\n",
       "      <td>0.00</td>\n",
       "      <td>I</td>\n",
       "      <td>999.9</td>\n",
       "      <td>0</td>\n",
       "      <td>0</td>\n",
       "      <td>0</td>\n",
       "      <td>0</td>\n",
       "      <td>0</td>\n",
       "      <td>0</td>\n",
       "      <td>1944-01-01</td>\n",
       "    </tr>\n",
       "    <tr>\n",
       "      <th>1</th>\n",
       "      <td>722950</td>\n",
       "      <td>23174</td>\n",
       "      <td>1944</td>\n",
       "      <td>1</td>\n",
       "      <td>2</td>\n",
       "      <td>51.7</td>\n",
       "      <td>24</td>\n",
       "      <td>48.6</td>\n",
       "      <td>24</td>\n",
       "      <td>1022.3</td>\n",
       "      <td>...</td>\n",
       "      <td>99.99</td>\n",
       "      <td>NaN</td>\n",
       "      <td>999.9</td>\n",
       "      <td>1</td>\n",
       "      <td>1</td>\n",
       "      <td>0</td>\n",
       "      <td>0</td>\n",
       "      <td>0</td>\n",
       "      <td>0</td>\n",
       "      <td>1944-01-02</td>\n",
       "    </tr>\n",
       "  </tbody>\n",
       "</table>\n",
       "<p>2 rows × 33 columns</p>\n",
       "</div>"
      ],
      "text/plain": [
       "      stn   wban  year  mo  da  temp  count_temp  dewp  count_dewp     slp  \\\n",
       "0  722950  23174  1944   1   1  59.0           6  42.7           6  1022.8   \n",
       "1  722950  23174  1944   1   2  51.7          24  48.6          24  1022.3   \n",
       "\n",
       "   ...   prcp  flag_prcp   sndp  fog  rain_drizzle  snow_ice_pellets  hail  \\\n",
       "0  ...   0.00          I  999.9    0             0                 0     0   \n",
       "1  ...  99.99        NaN  999.9    1             1                 0     0   \n",
       "\n",
       "   thunder  tornado_funnel_cloud       Date  \n",
       "0        0                     0 1944-01-01  \n",
       "1        0                     0 1944-01-02  \n",
       "\n",
       "[2 rows x 33 columns]"
      ]
     },
     "execution_count": 24,
     "metadata": {},
     "output_type": "execute_result"
    }
   ],
   "source": [
    "df['Date'] = pd.to_datetime(df[['year', 'mo', 'da']].astype(str).agg('-'.join, axis=1))\n",
    "df.head(2)"
   ]
  },
  {
   "cell_type": "code",
   "execution_count": 25,
   "metadata": {},
   "outputs": [
    {
     "data": {
      "text/html": [
       "<div>\n",
       "<style scoped>\n",
       "    .dataframe tbody tr th:only-of-type {\n",
       "        vertical-align: middle;\n",
       "    }\n",
       "\n",
       "    .dataframe tbody tr th {\n",
       "        vertical-align: top;\n",
       "    }\n",
       "\n",
       "    .dataframe thead th {\n",
       "        text-align: right;\n",
       "    }\n",
       "</style>\n",
       "<table border=\"1\" class=\"dataframe\">\n",
       "  <thead>\n",
       "    <tr style=\"text-align: right;\">\n",
       "      <th></th>\n",
       "      <th>stn</th>\n",
       "      <th>wban</th>\n",
       "      <th>temp</th>\n",
       "      <th>count_temp</th>\n",
       "      <th>dewp</th>\n",
       "      <th>count_dewp</th>\n",
       "      <th>slp</th>\n",
       "      <th>count_slp</th>\n",
       "      <th>stp</th>\n",
       "      <th>count_stp</th>\n",
       "      <th>...</th>\n",
       "      <th>flag_min</th>\n",
       "      <th>prcp</th>\n",
       "      <th>flag_prcp</th>\n",
       "      <th>sndp</th>\n",
       "      <th>fog</th>\n",
       "      <th>rain_drizzle</th>\n",
       "      <th>snow_ice_pellets</th>\n",
       "      <th>hail</th>\n",
       "      <th>thunder</th>\n",
       "      <th>tornado_funnel_cloud</th>\n",
       "    </tr>\n",
       "    <tr>\n",
       "      <th>Date</th>\n",
       "      <th></th>\n",
       "      <th></th>\n",
       "      <th></th>\n",
       "      <th></th>\n",
       "      <th></th>\n",
       "      <th></th>\n",
       "      <th></th>\n",
       "      <th></th>\n",
       "      <th></th>\n",
       "      <th></th>\n",
       "      <th></th>\n",
       "      <th></th>\n",
       "      <th></th>\n",
       "      <th></th>\n",
       "      <th></th>\n",
       "      <th></th>\n",
       "      <th></th>\n",
       "      <th></th>\n",
       "      <th></th>\n",
       "      <th></th>\n",
       "      <th></th>\n",
       "    </tr>\n",
       "  </thead>\n",
       "  <tbody>\n",
       "    <tr>\n",
       "      <th>1944-01-01</th>\n",
       "      <td>722950</td>\n",
       "      <td>23174</td>\n",
       "      <td>59.0</td>\n",
       "      <td>6</td>\n",
       "      <td>42.7</td>\n",
       "      <td>6</td>\n",
       "      <td>1022.8</td>\n",
       "      <td>6</td>\n",
       "      <td>9999.9</td>\n",
       "      <td>0</td>\n",
       "      <td>...</td>\n",
       "      <td>*</td>\n",
       "      <td>0.00</td>\n",
       "      <td>I</td>\n",
       "      <td>999.9</td>\n",
       "      <td>0</td>\n",
       "      <td>0</td>\n",
       "      <td>0</td>\n",
       "      <td>0</td>\n",
       "      <td>0</td>\n",
       "      <td>0</td>\n",
       "    </tr>\n",
       "    <tr>\n",
       "      <th>1944-01-02</th>\n",
       "      <td>722950</td>\n",
       "      <td>23174</td>\n",
       "      <td>51.7</td>\n",
       "      <td>24</td>\n",
       "      <td>48.6</td>\n",
       "      <td>24</td>\n",
       "      <td>1022.3</td>\n",
       "      <td>24</td>\n",
       "      <td>9999.9</td>\n",
       "      <td>0</td>\n",
       "      <td>...</td>\n",
       "      <td>*</td>\n",
       "      <td>99.99</td>\n",
       "      <td>NaN</td>\n",
       "      <td>999.9</td>\n",
       "      <td>1</td>\n",
       "      <td>1</td>\n",
       "      <td>0</td>\n",
       "      <td>0</td>\n",
       "      <td>0</td>\n",
       "      <td>0</td>\n",
       "    </tr>\n",
       "  </tbody>\n",
       "</table>\n",
       "<p>2 rows × 29 columns</p>\n",
       "</div>"
      ],
      "text/plain": [
       "               stn   wban  temp  count_temp  dewp  count_dewp     slp  \\\n",
       "Date                                                                    \n",
       "1944-01-01  722950  23174  59.0           6  42.7           6  1022.8   \n",
       "1944-01-02  722950  23174  51.7          24  48.6          24  1022.3   \n",
       "\n",
       "            count_slp     stp  count_stp  ...  flag_min   prcp  flag_prcp  \\\n",
       "Date                                      ...                               \n",
       "1944-01-01          6  9999.9          0  ...         *   0.00          I   \n",
       "1944-01-02         24  9999.9          0  ...         *  99.99        NaN   \n",
       "\n",
       "             sndp  fog  rain_drizzle  snow_ice_pellets hail  thunder  \\\n",
       "Date                                                                   \n",
       "1944-01-01  999.9    0             0                 0    0        0   \n",
       "1944-01-02  999.9    1             1                 0    0        0   \n",
       "\n",
       "           tornado_funnel_cloud  \n",
       "Date                             \n",
       "1944-01-01                    0  \n",
       "1944-01-02                    0  \n",
       "\n",
       "[2 rows x 29 columns]"
      ]
     },
     "execution_count": 25,
     "metadata": {},
     "output_type": "execute_result"
    }
   ],
   "source": [
    "df = df.set_index('Date')\n",
    "df = df.drop(['year', 'mo', 'da'], axis=1).sort_index()  #drop the individual Y, M, D columns and sort as dates\n",
    "df.head(2)"
   ]
  },
  {
   "cell_type": "code",
   "execution_count": 26,
   "metadata": {},
   "outputs": [
    {
     "name": "stdout",
     "output_type": "stream",
     "text": [
      "Dataset date range: 1944-01-01  to  2020-05-18\n",
      "Number of missing dates in the dataset : 10308 / 60473 \n"
     ]
    }
   ],
   "source": [
    "#Check for missing dates\n",
    "missing_dates = pd.date_range(df.index.min(), df.index.max()).difference(df.index)\n",
    "print ('Dataset date range:', df.index.min().strftime('%Y-%m-%d'), ' to ' ,df.index.max().strftime('%Y-%m-%d') )    \n",
    "print ('Number of missing dates in the dataset : %d / %d ' % ( len(missing_dates), df.shape[0] ) )"
   ]
  },
  {
   "cell_type": "markdown",
   "metadata": {},
   "source": [
    "In the entire date range there is a huge number of missing dates.\n",
    "let's check only last 20 years."
   ]
  },
  {
   "cell_type": "code",
   "execution_count": 38,
   "metadata": {},
   "outputs": [
    {
     "name": "stdout",
     "output_type": "stream",
     "text": [
      "DatetimeIndex([], dtype='datetime64[ns]', freq=None) 0\n"
     ]
    }
   ],
   "source": [
    "md2 = pd.date_range(datetime(1973, 1, 1), df.index.max()).difference(df.index)\n",
    "print (md2, len(md2))"
   ]
  },
  {
   "cell_type": "markdown",
   "metadata": {},
   "source": [
    "There are no missing dates since 1973 (last 47 years)"
   ]
  },
  {
   "cell_type": "code",
   "execution_count": 42,
   "metadata": {},
   "outputs": [
    {
     "data": {
      "text/html": [
       "<div>\n",
       "<style scoped>\n",
       "    .dataframe tbody tr th:only-of-type {\n",
       "        vertical-align: middle;\n",
       "    }\n",
       "\n",
       "    .dataframe tbody tr th {\n",
       "        vertical-align: top;\n",
       "    }\n",
       "\n",
       "    .dataframe thead th {\n",
       "        text-align: right;\n",
       "    }\n",
       "</style>\n",
       "<table border=\"1\" class=\"dataframe\">\n",
       "  <thead>\n",
       "    <tr style=\"text-align: right;\">\n",
       "      <th></th>\n",
       "      <th>stn</th>\n",
       "      <th>wban</th>\n",
       "      <th>temp</th>\n",
       "      <th>count_temp</th>\n",
       "      <th>dewp</th>\n",
       "      <th>count_dewp</th>\n",
       "      <th>slp</th>\n",
       "      <th>count_slp</th>\n",
       "      <th>stp</th>\n",
       "      <th>count_stp</th>\n",
       "      <th>...</th>\n",
       "      <th>flag_min</th>\n",
       "      <th>prcp</th>\n",
       "      <th>flag_prcp</th>\n",
       "      <th>sndp</th>\n",
       "      <th>fog</th>\n",
       "      <th>rain_drizzle</th>\n",
       "      <th>snow_ice_pellets</th>\n",
       "      <th>hail</th>\n",
       "      <th>thunder</th>\n",
       "      <th>tornado_funnel_cloud</th>\n",
       "    </tr>\n",
       "    <tr>\n",
       "      <th>Date</th>\n",
       "      <th></th>\n",
       "      <th></th>\n",
       "      <th></th>\n",
       "      <th></th>\n",
       "      <th></th>\n",
       "      <th></th>\n",
       "      <th></th>\n",
       "      <th></th>\n",
       "      <th></th>\n",
       "      <th></th>\n",
       "      <th></th>\n",
       "      <th></th>\n",
       "      <th></th>\n",
       "      <th></th>\n",
       "      <th></th>\n",
       "      <th></th>\n",
       "      <th></th>\n",
       "      <th></th>\n",
       "      <th></th>\n",
       "      <th></th>\n",
       "      <th></th>\n",
       "    </tr>\n",
       "  </thead>\n",
       "  <tbody>\n",
       "    <tr>\n",
       "      <th>1973-01-01</th>\n",
       "      <td>725020</td>\n",
       "      <td>14734</td>\n",
       "      <td>58.9</td>\n",
       "      <td>24</td>\n",
       "      <td>46.7</td>\n",
       "      <td>24</td>\n",
       "      <td>1015.8</td>\n",
       "      <td>24</td>\n",
       "      <td>1014.5</td>\n",
       "      <td>20</td>\n",
       "      <td>...</td>\n",
       "      <td>*</td>\n",
       "      <td>0.0</td>\n",
       "      <td>D</td>\n",
       "      <td>999.9</td>\n",
       "      <td>0</td>\n",
       "      <td>1</td>\n",
       "      <td>0</td>\n",
       "      <td>0</td>\n",
       "      <td>0</td>\n",
       "      <td>0</td>\n",
       "    </tr>\n",
       "    <tr>\n",
       "      <th>1973-01-01</th>\n",
       "      <td>722950</td>\n",
       "      <td>23174</td>\n",
       "      <td>58.6</td>\n",
       "      <td>24</td>\n",
       "      <td>12.9</td>\n",
       "      <td>24</td>\n",
       "      <td>1018.7</td>\n",
       "      <td>24</td>\n",
       "      <td>1015.1</td>\n",
       "      <td>24</td>\n",
       "      <td>...</td>\n",
       "      <td>*</td>\n",
       "      <td>0.0</td>\n",
       "      <td>A</td>\n",
       "      <td>999.9</td>\n",
       "      <td>0</td>\n",
       "      <td>0</td>\n",
       "      <td>0</td>\n",
       "      <td>0</td>\n",
       "      <td>0</td>\n",
       "      <td>0</td>\n",
       "    </tr>\n",
       "  </tbody>\n",
       "</table>\n",
       "<p>2 rows × 29 columns</p>\n",
       "</div>"
      ],
      "text/plain": [
       "               stn   wban  temp  count_temp  dewp  count_dewp     slp  \\\n",
       "Date                                                                    \n",
       "1973-01-01  725020  14734  58.9          24  46.7          24  1015.8   \n",
       "1973-01-01  722950  23174  58.6          24  12.9          24  1018.7   \n",
       "\n",
       "            count_slp     stp  count_stp  ...  flag_min  prcp  flag_prcp  \\\n",
       "Date                                      ...                              \n",
       "1973-01-01         24  1014.5         20  ...         *   0.0          D   \n",
       "1973-01-01         24  1015.1         24  ...         *   0.0          A   \n",
       "\n",
       "             sndp  fog  rain_drizzle  snow_ice_pellets hail  thunder  \\\n",
       "Date                                                                   \n",
       "1973-01-01  999.9    0             1                 0    0        0   \n",
       "1973-01-01  999.9    0             0                 0    0        0   \n",
       "\n",
       "           tornado_funnel_cloud  \n",
       "Date                             \n",
       "1973-01-01                    0  \n",
       "1973-01-01                    0  \n",
       "\n",
       "[2 rows x 29 columns]"
      ]
     },
     "execution_count": 42,
     "metadata": {},
     "output_type": "execute_result"
    }
   ],
   "source": [
    "df2 = df[df.index>=datetime(1973, 1, 1)]\n",
    "df2.head(2)"
   ]
  },
  {
   "cell_type": "code",
   "execution_count": 43,
   "metadata": {},
   "outputs": [
    {
     "name": "stdout",
     "output_type": "stream",
     "text": [
      "Dataset date range: 1973-01-01  to  2020-05-18\n",
      "Number of missing dates in the dataset : 0 / 60188 \n"
     ]
    }
   ],
   "source": [
    "missing_dates = pd.date_range(df2.index.min(), df2.index.max()).difference(df2.index)\n",
    "print ('Dataset date range:', df2.index.min().strftime('%Y-%m-%d'), ' to ' ,df2.index.max().strftime('%Y-%m-%d') )    \n",
    "print ('Number of missing dates in the dataset : %d / %d ' % ( len(missing_dates), df2.shape[0] ) )"
   ]
  },
  {
   "cell_type": "code",
   "execution_count": 65,
   "metadata": {},
   "outputs": [
    {
     "name": "stdout",
     "output_type": "stream",
     "text": [
      "Are there any duplicates? True\n"
     ]
    }
   ],
   "source": [
    "# check for the duplicates\n",
    "print ('Are there any duplicates?', df2.index.duplicated().any() )"
   ]
  },
  {
   "cell_type": "code",
   "execution_count": 66,
   "metadata": {},
   "outputs": [
    {
     "data": {
      "text/plain": [
       "array([False,  True,  True, ..., False,  True,  True])"
      ]
     },
     "execution_count": 66,
     "metadata": {},
     "output_type": "execute_result"
    }
   ],
   "source": [
    "df2.index.duplicated()"
   ]
  },
  {
   "cell_type": "code",
   "execution_count": 68,
   "metadata": {},
   "outputs": [],
   "source": [
    "df3 = df2.index.drop_duplicates()"
   ]
  },
  {
   "cell_type": "code",
   "execution_count": 69,
   "metadata": {},
   "outputs": [
    {
     "ename": "AttributeError",
     "evalue": "'DatetimeIndex' object has no attribute 'index'",
     "output_type": "error",
     "traceback": [
      "\u001b[0;31m---------------------------------------------------------------------------\u001b[0m",
      "\u001b[0;31mAttributeError\u001b[0m                            Traceback (most recent call last)",
      "\u001b[0;32m<ipython-input-69-8b2983f9032c>\u001b[0m in \u001b[0;36m<module>\u001b[0;34m\u001b[0m\n\u001b[0;32m----> 1\u001b[0;31m \u001b[0mdf3\u001b[0m\u001b[0;34m.\u001b[0m\u001b[0mindex\u001b[0m\u001b[0;34m.\u001b[0m\u001b[0mduplicated\u001b[0m\u001b[0;34m(\u001b[0m\u001b[0;34m)\u001b[0m\u001b[0;34m\u001b[0m\u001b[0;34m\u001b[0m\u001b[0m\n\u001b[0m",
      "\u001b[0;31mAttributeError\u001b[0m: 'DatetimeIndex' object has no attribute 'index'"
     ]
    }
   ],
   "source": [
    "df3.index.duplicated()"
   ]
  },
  {
   "cell_type": "code",
   "execution_count": null,
   "metadata": {},
   "outputs": [],
   "source": [
    "dfn = dfn_.reset_index().drop_duplicates(subset='Date', keep='first').set_index('Date')\n"
   ]
  },
  {
   "cell_type": "code",
   "execution_count": null,
   "metadata": {},
   "outputs": [],
   "source": []
  },
  {
   "cell_type": "code",
   "execution_count": null,
   "metadata": {},
   "outputs": [],
   "source": []
  },
  {
   "cell_type": "code",
   "execution_count": null,
   "metadata": {},
   "outputs": [],
   "source": []
  },
  {
   "cell_type": "code",
   "execution_count": 54,
   "metadata": {},
   "outputs": [
    {
     "data": {
      "text/html": [
       "<div>\n",
       "<style scoped>\n",
       "    .dataframe tbody tr th:only-of-type {\n",
       "        vertical-align: middle;\n",
       "    }\n",
       "\n",
       "    .dataframe tbody tr th {\n",
       "        vertical-align: top;\n",
       "    }\n",
       "\n",
       "    .dataframe thead th {\n",
       "        text-align: right;\n",
       "    }\n",
       "</style>\n",
       "<table border=\"1\" class=\"dataframe\">\n",
       "  <thead>\n",
       "    <tr style=\"text-align: right;\">\n",
       "      <th></th>\n",
       "      <th>indx</th>\n",
       "      <th>x1</th>\n",
       "      <th>x2</th>\n",
       "    </tr>\n",
       "  </thead>\n",
       "  <tbody>\n",
       "    <tr>\n",
       "      <th>0</th>\n",
       "      <td>a</td>\n",
       "      <td>1</td>\n",
       "      <td>11</td>\n",
       "    </tr>\n",
       "    <tr>\n",
       "      <th>1</th>\n",
       "      <td>b</td>\n",
       "      <td>2</td>\n",
       "      <td>12</td>\n",
       "    </tr>\n",
       "    <tr>\n",
       "      <th>2</th>\n",
       "      <td>c</td>\n",
       "      <td>3</td>\n",
       "      <td>13</td>\n",
       "    </tr>\n",
       "    <tr>\n",
       "      <th>3</th>\n",
       "      <td>d</td>\n",
       "      <td>4</td>\n",
       "      <td>14</td>\n",
       "    </tr>\n",
       "    <tr>\n",
       "      <th>4</th>\n",
       "      <td>c</td>\n",
       "      <td>5</td>\n",
       "      <td>15</td>\n",
       "    </tr>\n",
       "    <tr>\n",
       "      <th>5</th>\n",
       "      <td>a</td>\n",
       "      <td>6</td>\n",
       "      <td>16</td>\n",
       "    </tr>\n",
       "    <tr>\n",
       "      <th>6</th>\n",
       "      <td>c</td>\n",
       "      <td>7</td>\n",
       "      <td>17</td>\n",
       "    </tr>\n",
       "  </tbody>\n",
       "</table>\n",
       "</div>"
      ],
      "text/plain": [
       "  indx  x1  x2\n",
       "0    a   1  11\n",
       "1    b   2  12\n",
       "2    c   3  13\n",
       "3    d   4  14\n",
       "4    c   5  15\n",
       "5    a   6  16\n",
       "6    c   7  17"
      ]
     },
     "execution_count": 54,
     "metadata": {},
     "output_type": "execute_result"
    }
   ],
   "source": [
    "mnths = ['Jan', 'Feb', 'Mar', 'Feb', 'Mar', 'Aug']\n",
    "\n",
    "idx = ['a','b','c', 'd', 'c', 'a', 'c']\n",
    "x1 = np.arange(1, len(idx)+1)\n",
    "x2 = 10+np.arange(1, len(idx)+1)\n",
    "\n",
    "dff = pd.DataFrame({'indx':idx, 'x1':x1, 'x2':x2})\n",
    "dff"
   ]
  },
  {
   "cell_type": "code",
   "execution_count": 59,
   "metadata": {},
   "outputs": [],
   "source": [
    "#dff.duplicated(subset='indx')\n",
    "dff=dff.set_index('indx')"
   ]
  },
  {
   "cell_type": "code",
   "execution_count": 60,
   "metadata": {},
   "outputs": [
    {
     "data": {
      "text/plain": [
       "array([False, False, False, False,  True,  True,  True])"
      ]
     },
     "execution_count": 60,
     "metadata": {},
     "output_type": "execute_result"
    }
   ],
   "source": [
    "dff.index.duplicated()"
   ]
  },
  {
   "cell_type": "code",
   "execution_count": null,
   "metadata": {},
   "outputs": [],
   "source": []
  }
 ],
 "metadata": {
  "kernelspec": {
   "display_name": "Python 3",
   "language": "python",
   "name": "python3"
  },
  "language_info": {
   "codemirror_mode": {
    "name": "ipython",
    "version": 3
   },
   "file_extension": ".py",
   "mimetype": "text/x-python",
   "name": "python",
   "nbconvert_exporter": "python",
   "pygments_lexer": "ipython3",
   "version": "3.7.5"
  }
 },
 "nbformat": 4,
 "nbformat_minor": 2
}

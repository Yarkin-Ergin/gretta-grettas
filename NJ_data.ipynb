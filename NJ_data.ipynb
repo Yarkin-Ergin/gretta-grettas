{
 "cells": [
  {
   "cell_type": "code",
   "execution_count": null,
   "metadata": {},
   "outputs": [],
   "source": []
  },
  {
   "cell_type": "code",
   "execution_count": 2,
   "metadata": {},
   "outputs": [],
   "source": [
    "import numpy as np\n",
    "import pandas as pd\n",
    "import matplotlib.pyplot as plt\n",
    "\n",
    "from datetime import datetime"
   ]
  },
  {
   "cell_type": "code",
   "execution_count": 11,
   "metadata": {},
   "outputs": [
    {
     "data": {
      "text/html": [
       "<div>\n",
       "<style scoped>\n",
       "    .dataframe tbody tr th:only-of-type {\n",
       "        vertical-align: middle;\n",
       "    }\n",
       "\n",
       "    .dataframe tbody tr th {\n",
       "        vertical-align: top;\n",
       "    }\n",
       "\n",
       "    .dataframe thead th {\n",
       "        text-align: right;\n",
       "    }\n",
       "</style>\n",
       "<table border=\"1\" class=\"dataframe\">\n",
       "  <thead>\n",
       "    <tr style=\"text-align: right;\">\n",
       "      <th></th>\n",
       "      <th>Date</th>\n",
       "      <th>Daily Max 8-hour Ozone Concentration</th>\n",
       "      <th>DAILY_AQI_VALUE</th>\n",
       "    </tr>\n",
       "  </thead>\n",
       "  <tbody>\n",
       "    <tr>\n",
       "      <th>3929</th>\n",
       "      <td>2020-05-23</td>\n",
       "      <td>0.035</td>\n",
       "      <td>32</td>\n",
       "    </tr>\n",
       "    <tr>\n",
       "      <th>3930</th>\n",
       "      <td>2020-05-24</td>\n",
       "      <td>0.038</td>\n",
       "      <td>35</td>\n",
       "    </tr>\n",
       "  </tbody>\n",
       "</table>\n",
       "</div>"
      ],
      "text/plain": [
       "           Date  Daily Max 8-hour Ozone Concentration  DAILY_AQI_VALUE\n",
       "3929 2020-05-23                                 0.035               32\n",
       "3930 2020-05-24                                 0.038               35"
      ]
     },
     "execution_count": 11,
     "metadata": {},
     "output_type": "execute_result"
    }
   ],
   "source": [
    "#datasets/NJ_CO_site_003.csv    datasets/NJ_NO2_site_0011.csv  datasets/NJ_Ozone_site_003.csv\n",
    "\n",
    "df_oz= pd.read_csv('./datasets/NJ_Ozone_site_003.csv') # data from 2009 to 2020-5-24\n",
    "#df_oz= pd.read_csv('./datasets/NJ_Ozone_site_.csv')\n",
    "#NJ_Ozone_site_.csv\n",
    "df_oz.columns\n",
    "cols_to_drop = ['Source', 'Site ID', 'POC','UNITS', 'Site Name', 'DAILY_OBS_COUNT', 'PERCENT_COMPLETE',\n",
    "                'AQS_PARAMETER_CODE', 'AQS_PARAMETER_DESC', 'CBSA_CODE', 'CBSA_NAME', 'STATE_CODE', 'STATE',\n",
    "                'COUNTY_CODE', 'COUNTY', 'SITE_LATITUDE','SITE_LONGITUDE']\n",
    "\n",
    "df_oz  = df_oz.drop(columns=cols_to_drop)\n",
    "df_oz.Date = pd.to_datetime(df_oz.Date)\n",
    "df_oz.tail(2)"
   ]
  },
  {
   "cell_type": "code",
   "execution_count": 12,
   "metadata": {},
   "outputs": [
    {
     "name": "stdout",
     "output_type": "stream",
     "text": [
      "DatetimeIndex(['2009-09-02', '2009-10-04', '2009-10-05', '2009-11-30',\n",
      "               '2009-12-02', '2009-12-31', '2010-01-27', '2010-02-16',\n",
      "               '2010-05-03', '2010-05-04', '2010-05-05', '2010-05-13',\n",
      "               '2010-05-14', '2010-05-15', '2010-05-16', '2010-12-31',\n",
      "               '2011-07-23', '2011-07-24', '2011-07-25', '2011-08-26',\n",
      "               '2011-08-27', '2011-08-28', '2011-12-31', '2012-04-22',\n",
      "               '2012-05-06', '2012-05-27', '2012-10-29', '2012-10-30',\n",
      "               '2012-12-31', '2013-02-25', '2013-03-11', '2013-03-24',\n",
      "               '2013-08-21', '2013-11-20', '2013-12-31', '2014-02-21',\n",
      "               '2014-02-22', '2014-05-16', '2014-05-17', '2014-05-18',\n",
      "               '2014-12-02', '2014-12-31', '2015-02-26', '2015-10-07',\n",
      "               '2015-10-08', '2015-12-31', '2016-02-15', '2016-03-02',\n",
      "               '2016-03-04', '2016-03-05', '2016-03-06', '2016-03-07',\n",
      "               '2016-03-12', '2016-03-13', '2016-03-14', '2016-11-30',\n",
      "               '2016-12-31', '2017-01-31', '2017-04-01', '2017-06-17',\n",
      "               '2017-06-18', '2017-06-19', '2017-06-27', '2017-09-26',\n",
      "               '2017-10-24', '2017-10-30', '2017-12-31', '2018-01-22',\n",
      "               '2018-07-01', '2018-10-12', '2018-10-13', '2018-10-14',\n",
      "               '2018-10-30', '2018-12-31', '2019-02-11', '2019-03-11',\n",
      "               '2019-04-08', '2019-11-18', '2020-03-19', '2020-03-20'],\n",
      "              dtype='datetime64[ns]', freq=None)\n",
      "There are total : 80 number of missing dates in the dataset.\n"
     ]
    }
   ],
   "source": [
    "# Checking for missing dates\n",
    "df_tmp = df_oz.set_index('Date') # the following command requires to have a index set to Date column\n",
    "missing_dates = pd.date_range(df_tmp.index.min(), df_tmp.index.max()).difference(df_tmp.index)\n",
    "print (missing_dates)\n",
    "print ('There are total : %d number of missing dates in the dataset.' %len(missing_dates))"
   ]
  },
  {
   "cell_type": "code",
   "execution_count": 13,
   "metadata": {},
   "outputs": [
    {
     "data": {
      "text/html": [
       "<div>\n",
       "<style scoped>\n",
       "    .dataframe tbody tr th:only-of-type {\n",
       "        vertical-align: middle;\n",
       "    }\n",
       "\n",
       "    .dataframe tbody tr th {\n",
       "        vertical-align: top;\n",
       "    }\n",
       "\n",
       "    .dataframe thead th {\n",
       "        text-align: right;\n",
       "    }\n",
       "</style>\n",
       "<table border=\"1\" class=\"dataframe\">\n",
       "  <thead>\n",
       "    <tr style=\"text-align: right;\">\n",
       "      <th></th>\n",
       "      <th>Date</th>\n",
       "      <th>Daily Max 8-hour Ozone Concentration</th>\n",
       "      <th>DAILY_AQI_VALUE</th>\n",
       "    </tr>\n",
       "  </thead>\n",
       "  <tbody>\n",
       "    <tr>\n",
       "      <th>0</th>\n",
       "      <td>2009-06-01</td>\n",
       "      <td>0.043</td>\n",
       "      <td>40.0</td>\n",
       "    </tr>\n",
       "    <tr>\n",
       "      <th>1</th>\n",
       "      <td>2009-06-02</td>\n",
       "      <td>0.044</td>\n",
       "      <td>41.0</td>\n",
       "    </tr>\n",
       "  </tbody>\n",
       "</table>\n",
       "</div>"
      ],
      "text/plain": [
       "        Date  Daily Max 8-hour Ozone Concentration  DAILY_AQI_VALUE\n",
       "0 2009-06-01                                 0.043             40.0\n",
       "1 2009-06-02                                 0.044             41.0"
      ]
     },
     "execution_count": 13,
     "metadata": {},
     "output_type": "execute_result"
    }
   ],
   "source": [
    "# first set the index as Date\n",
    "df_oz = df_oz.set_index('Date')\n",
    "# insert all the missing dates with Nans\n",
    "df_oz = df_oz.reindex(  pd.date_range(df_oz.index.min(), df_oz.index.max())  ) \n",
    "# fill those missing dates with the last known date\n",
    "df_oz.ffill(axis=0, inplace=True)  \n",
    "# Now move the Date index as one of the columns, easier for later analysis\n",
    "df_oz = df_oz.rename_axis('Date').reset_index()  \n",
    "df_oz.head(2)"
   ]
  },
  {
   "cell_type": "code",
   "execution_count": 14,
   "metadata": {},
   "outputs": [
    {
     "data": {
      "text/plain": [
       "Date                                    False\n",
       "Daily Max 8-hour Ozone Concentration    False\n",
       "DAILY_AQI_VALUE                         False\n",
       "dtype: bool"
      ]
     },
     "execution_count": 14,
     "metadata": {},
     "output_type": "execute_result"
    }
   ],
   "source": [
    "# check if there are any null value\n",
    "df_oz.isnull().any()"
   ]
  },
  {
   "cell_type": "code",
   "execution_count": null,
   "metadata": {},
   "outputs": [],
   "source": []
  }
 ],
 "metadata": {
  "kernelspec": {
   "display_name": "Python 3",
   "language": "python",
   "name": "python3"
  },
  "language_info": {
   "codemirror_mode": {
    "name": "ipython",
    "version": 3
   },
   "file_extension": ".py",
   "mimetype": "text/x-python",
   "name": "python",
   "nbconvert_exporter": "python",
   "pygments_lexer": "ipython3",
   "version": "3.7.5"
  }
 },
 "nbformat": 4,
 "nbformat_minor": 2
}
